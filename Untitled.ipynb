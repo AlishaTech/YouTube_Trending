{
 "cells": [
  {
   "cell_type": "markdown",
   "metadata": {},
   "source": [
    "source: https://www.kaggle.com/hoonkeng/deep-analysis-on-youtube-trending-videos-eda/notebook"
   ]
  },
  {
   "cell_type": "markdown",
   "metadata": {},
   "source": [
    "# Types of videos that trend in the US"
   ]
  },
  {
   "cell_type": "markdown",
   "metadata": {},
   "source": [
    "Which factors matter the most in order to trend? Is it category, title, views, and or tags?\n",
    "First we create a subset of the data to only show us US.\n",
    "\n",
    "Before I started I installed a packet called pandasql so I can do SQL queries within Python.\n",
    "\n",
    "##Place Bar graph below for LIKE vs VIEWS within US. \n",
    "\n",
    "My HYPOTHESIS is that likes matter more than views in determining what trends. This is shown to be TRUE."
   ]
  },
  {
   "cell_type": "code",
   "execution_count": null,
   "metadata": {},
   "outputs": [],
   "source": [
    "import os\n",
    "import pandas as pd\n",
    "import seaborn as sns\n",
    "import matplotlib.pyplot as plt\n",
    "\n",
    "filename1 = 'dataframe.csv'\n",
    "filename2 = 'dataframe_all_timestamps.csv'\n",
    "\n",
    "df = pd.read_csv('dataframe.csv')\n",
    "df_all_timestamps = pd.read_csv('dataframe_all_timestamps.csv')"
   ]
  },
  {
   "cell_type": "code",
   "execution_count": null,
   "metadata": {},
   "outputs": [],
   "source": [
    "import pandasql as ps\n",
    "US = df.loc[df['country'] == 'US']\n",
    "US.head()"
   ]
  },
  {
   "cell_type": "code",
   "execution_count": null,
   "metadata": {},
   "outputs": [],
   "source": []
  },
  {
   "cell_type": "code",
   "execution_count": null,
   "metadata": {},
   "outputs": [],
   "source": []
  },
  {
   "cell_type": "code",
   "execution_count": null,
   "metadata": {},
   "outputs": [],
   "source": [
    "q1 = \"\"\"SELECT title, likes, tags  FROM US ORDER by likes DESC limit 10\"\"\"\n",
    "\n",
    "print(ps.sqldf(q1, locals()))"
   ]
  },
  {
   "cell_type": "markdown",
   "metadata": {},
   "source": [
    "##Show limit 10 query\n",
    "\n",
    "I limit the data to the top 10 trending and I am surprised that Kpop takes the lead. Pop is a close second. Music videos are popular in the US. Let's dig deeper. "
   ]
  },
  {
   "cell_type": "code",
   "execution_count": null,
   "metadata": {},
   "outputs": [],
   "source": []
  },
  {
   "cell_type": "code",
   "execution_count": null,
   "metadata": {},
   "outputs": [],
   "source": [
    "US = df.loc[df['country'] == 'US']\n",
    "q1 = \"\"\"SELECT title,likes, tags, category  FROM US ORDER by likes  DESC limit 49\"\"\"\n",
    "usdf = ps.sqldf(q1, locals())\n",
    "usdf"
   ]
  },
  {
   "cell_type": "markdown",
   "metadata": {},
   "source": [
    "##Show limit 49 query\n",
    "\n",
    "This time I select the top 49 trending, music is still very popular. I decide to dig deeper into the tags and hit a snag. Using the video tags is not the most reliable way to get information as videos can have unrelated tags. \n",
    "\n",
    "EX: A Kpop video would have a hiphop tag while a hiphop video wouldn't have a hiphop tag. Instead of digging deeper into the music and the trending determining factors behind the video, I decide to broaden my subset and go a different direction. "
   ]
  },
  {
   "cell_type": "code",
   "execution_count": null,
   "metadata": {},
   "outputs": [],
   "source": []
  },
  {
   "cell_type": "code",
   "execution_count": null,
   "metadata": {},
   "outputs": [],
   "source": [
    "US = df.loc[df['country'] == 'US']\n",
    "q1 = \"\"\"SELECT title,likes, tags, category  FROM US ORDER by likes  DESC limit 1000\"\"\"\n",
    "usdf = ps.sqldf(q1, locals())\n",
    "usdf"
   ]
  },
  {
   "cell_type": "markdown",
   "metadata": {},
   "source": [
    "##Show limit 1000 query\n",
    "\n",
    "I limit my subset to 1000 and immediately notice that Music is no longer the clear winner. Entertainment is in the lead."
   ]
  },
  {
   "cell_type": "code",
   "execution_count": null,
   "metadata": {},
   "outputs": [],
   "source": []
  },
  {
   "cell_type": "code",
   "execution_count": null,
   "metadata": {},
   "outputs": [],
   "source": []
  },
  {
   "cell_type": "code",
   "execution_count": null,
   "metadata": {},
   "outputs": [],
   "source": []
  },
  {
   "cell_type": "code",
   "execution_count": null,
   "metadata": {},
   "outputs": [],
   "source": []
  },
  {
   "cell_type": "code",
   "execution_count": null,
   "metadata": {},
   "outputs": [],
   "source": []
  }
 ],
 "metadata": {
  "kernelspec": {
   "display_name": "Python 3",
   "language": "python",
   "name": "python3"
  },
  "language_info": {
   "codemirror_mode": {
    "name": "ipython",
    "version": 3
   },
   "file_extension": ".py",
   "mimetype": "text/x-python",
   "name": "python",
   "nbconvert_exporter": "python",
   "pygments_lexer": "ipython3",
   "version": "3.7.3"
  }
 },
 "nbformat": 4,
 "nbformat_minor": 2
}
